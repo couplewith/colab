{
  "nbformat": 4,
  "nbformat_minor": 0,
  "metadata": {
    "colab": {
      "provenance": [],
      "authorship_tag": "ABX9TyMgQ+aUezzGz4uPjs0vjiYR",
      "include_colab_link": true
    },
    "kernelspec": {
      "name": "python3",
      "display_name": "Python 3"
    },
    "language_info": {
      "name": "python"
    }
  },
  "cells": [
    {
      "cell_type": "markdown",
      "metadata": {
        "id": "view-in-github",
        "colab_type": "text"
      },
      "source": [
        "<a href=\"https://colab.research.google.com/github/couplewith/colab/blob/main/%EC%A3%BC%EC%8B%9D_%EB%8D%B0%EC%9D%B4%ED%84%B0_%EC%88%98%EC%A7%91%EA%B3%BC_%EB%B6%84%EC%84%9D_AMZN_2408.ipynb\" target=\"_parent\"><img src=\"https://colab.research.google.com/assets/colab-badge.svg\" alt=\"Open In Colab\"/></a>"
      ]
    },
    {
      "cell_type": "markdown",
      "source": [
        "데이터 수집과 분석을 자동화하기 위해서는 웹 스크래핑, API 사용, 그리고 자동화된 데이터 분석 도구를 활용할 수 있습니다. 여기서는 각 방법에 대한 상세한 설명과 예제를 제공하겠습니다.\n",
        "\n",
        "# 주식 데이터 수집과 분석\n",
        "\n",
        "주식 데이터 수집 : 인터넷 주식 정보 사이트를 통해 주식 정보를 수집하고 분석하여 향후 동향을 분석하는 알고리즘을 만들어 보고자 합니다.\n",
        "\n",
        "\n",
        "## 1. 데이터 수집\n",
        "\n",
        "- Yahoo Finance: Yahoo Finance - Amazon\n",
        "https://finance.yahoo.com/quote/AMZN/history?p=AMZN\n",
        "\n",
        "- Google Finance: Google Finance - Amazon\n",
        "https://www.google.com/finance/quote/AMZN:NASDAQ\n",
        "\n",
        "- Bloomberg: Bloomberg - Amazon\n",
        "https://www.bloomberg.com/quote/AMZN:US\n",
        "\n",
        "위의 주식은 다음과 같은 내용을 가지고 있습니다.\n",
        "\n",
        "\n",
        "\n"
      ],
      "metadata": {
        "id": "XIWLJXkb7lQl"
      }
    },
    {
      "cell_type": "code",
      "source": [
        " # 파이썬시작\n",
        " !pip install requests beautifulsoup4 pandas\n"
      ],
      "metadata": {
        "colab": {
          "base_uri": "https://localhost:8080/"
        },
        "id": "W_2yJwU__Bih",
        "outputId": "9d2b22f8-9d32-4241-bb82-11108ccda386"
      },
      "execution_count": 6,
      "outputs": [
        {
          "output_type": "stream",
          "name": "stdout",
          "text": [
            "Requirement already satisfied: requests in /usr/local/lib/python3.10/dist-packages (2.32.3)\n",
            "Requirement already satisfied: beautifulsoup4 in /usr/local/lib/python3.10/dist-packages (4.12.3)\n",
            "Requirement already satisfied: pandas in /usr/local/lib/python3.10/dist-packages (2.1.4)\n",
            "Requirement already satisfied: charset-normalizer<4,>=2 in /usr/local/lib/python3.10/dist-packages (from requests) (3.3.2)\n",
            "Requirement already satisfied: idna<4,>=2.5 in /usr/local/lib/python3.10/dist-packages (from requests) (3.7)\n",
            "Requirement already satisfied: urllib3<3,>=1.21.1 in /usr/local/lib/python3.10/dist-packages (from requests) (2.0.7)\n",
            "Requirement already satisfied: certifi>=2017.4.17 in /usr/local/lib/python3.10/dist-packages (from requests) (2024.7.4)\n",
            "Requirement already satisfied: soupsieve>1.2 in /usr/local/lib/python3.10/dist-packages (from beautifulsoup4) (2.5)\n",
            "Requirement already satisfied: numpy<2,>=1.22.4 in /usr/local/lib/python3.10/dist-packages (from pandas) (1.26.4)\n",
            "Requirement already satisfied: python-dateutil>=2.8.2 in /usr/local/lib/python3.10/dist-packages (from pandas) (2.8.2)\n",
            "Requirement already satisfied: pytz>=2020.1 in /usr/local/lib/python3.10/dist-packages (from pandas) (2024.1)\n",
            "Requirement already satisfied: tzdata>=2022.1 in /usr/local/lib/python3.10/dist-packages (from pandas) (2024.1)\n",
            "Requirement already satisfied: six>=1.5 in /usr/local/lib/python3.10/dist-packages (from python-dateutil>=2.8.2->pandas) (1.16.0)\n"
          ]
        }
      ]
    },
    {
      "cell_type": "markdown",
      "source": [
        "## 2.2 데이터수집 -  웹 스크래핑\n",
        "\n",
        "웹 스크래핑을 통해 웹사이트에서 데이터를 자동으로 수집할 수 있습니다. Python의 BeautifulSoup과 requests 라이브러리를 사용하여 데이터를 수집할 수 있습니다\n",
        "\n",
        "\n",
        "\n",
        "** 예제: Yahoo Finance에서 데이터 수집 **"
      ],
      "metadata": {
        "id": "o51e-da381Oo"
      }
    },
    {
      "cell_type": "code",
      "source": [
        "#예제: Yahoo Finance에서 데이터 수집 - CSV파일\n",
        "import pandas as pd\n",
        "\n",
        "# CSV 파일 URL\n",
        "url = 'https://query1.finance.yahoo.com/v7/finance/download/AMZN?period1=1691730584&period2=1723352984&interval=1d&events=history&includeAdjustedClose=true'\n",
        "\n",
        "# CSV 파일을 데이터프레임으로 읽기\n",
        "df = pd.read_csv(url)\n",
        "\n",
        "# 데이터프레임 출력\n",
        "print(df.head())"
      ],
      "metadata": {
        "colab": {
          "base_uri": "https://localhost:8080/"
        },
        "id": "DVu_xWTpCfPJ",
        "outputId": "0d1f0455-f13e-4567-9f9a-ef54d506a21c"
      },
      "execution_count": 8,
      "outputs": [
        {
          "output_type": "stream",
          "name": "stdout",
          "text": [
            "         Date        Open        High         Low       Close   Adj Close  \\\n",
            "0  2023-08-11  137.399994  139.330002  137.000000  138.410004  138.410004   \n",
            "1  2023-08-14  138.300003  140.589996  137.750000  140.570007  140.570007   \n",
            "2  2023-08-15  140.050003  141.279999  137.229996  137.669998  137.669998   \n",
            "3  2023-08-16  137.190002  137.270004  135.009995  135.070007  135.070007   \n",
            "4  2023-08-17  135.460007  136.089996  133.529999  133.979996  133.979996   \n",
            "\n",
            "     Volume  \n",
            "0  42832100  \n",
            "1  47148700  \n",
            "2  42781500  \n",
            "3  41675900  \n",
            "4  48354100  \n"
          ]
        }
      ]
    },
    {
      "cell_type": "code",
      "source": [
        "#예제: Yahoo Finance에서 데이터 수집 - HTML 파싱\n",
        "import requests\n",
        "from bs4 import BeautifulSoup\n",
        "import pandas as pd\n",
        "\n",
        "# URL 설정\n",
        "url = 'https://finance.yahoo.com/quote/AMZN/history?p=AMZN'\n",
        "\n",
        "# 요청 보내기\n",
        "response = requests.get(url)\n",
        "soup = BeautifulSoup(response.text, 'html.parser')\n",
        "\n",
        "# 테이블 데이터 찾기\n",
        "table = soup.find('table', {'data-test': 'historical-prices'})\n",
        "\n",
        "# 데이터프레임으로 변환\n",
        "rows = table.find_all('tr')\n",
        "data = []\n",
        "for row in rows[1:]:\n",
        "    cols = row.find_all('td')\n",
        "    cols = [ele.text.strip() for ele in cols]\n",
        "    data.append([ele for ele in cols if ele])\n",
        "\n",
        "df = pd.DataFrame(data, columns=['Date', 'Open', 'High', 'Low', 'Close', 'Adj Close', 'Volume'])\n",
        "\n",
        "# 데이터 전처리\n",
        "df = df.dropna()\n",
        "\n",
        "print(df.head())\n"
      ],
      "metadata": {
        "colab": {
          "base_uri": "https://localhost:8080/",
          "height": 220
        },
        "id": "pdERdZa67-eN",
        "outputId": "0a4a1376-b202-43a2-c64c-38e143559549"
      },
      "execution_count": 7,
      "outputs": [
        {
          "output_type": "error",
          "ename": "AttributeError",
          "evalue": "'NoneType' object has no attribute 'find_all'",
          "traceback": [
            "\u001b[0;31m---------------------------------------------------------------------------\u001b[0m",
            "\u001b[0;31mAttributeError\u001b[0m                            Traceback (most recent call last)",
            "\u001b[0;32m<ipython-input-7-ff402a612138>\u001b[0m in \u001b[0;36m<cell line: 17>\u001b[0;34m()\u001b[0m\n\u001b[1;32m     15\u001b[0m \u001b[0;34m\u001b[0m\u001b[0m\n\u001b[1;32m     16\u001b[0m \u001b[0;31m# 데이터프레임으로 변환\u001b[0m\u001b[0;34m\u001b[0m\u001b[0;34m\u001b[0m\u001b[0m\n\u001b[0;32m---> 17\u001b[0;31m \u001b[0mrows\u001b[0m \u001b[0;34m=\u001b[0m \u001b[0mtable\u001b[0m\u001b[0;34m.\u001b[0m\u001b[0mfind_all\u001b[0m\u001b[0;34m(\u001b[0m\u001b[0;34m'tr'\u001b[0m\u001b[0;34m)\u001b[0m\u001b[0;34m\u001b[0m\u001b[0;34m\u001b[0m\u001b[0m\n\u001b[0m\u001b[1;32m     18\u001b[0m \u001b[0mdata\u001b[0m \u001b[0;34m=\u001b[0m \u001b[0;34m[\u001b[0m\u001b[0;34m]\u001b[0m\u001b[0;34m\u001b[0m\u001b[0;34m\u001b[0m\u001b[0m\n\u001b[1;32m     19\u001b[0m \u001b[0;32mfor\u001b[0m \u001b[0mrow\u001b[0m \u001b[0;32min\u001b[0m \u001b[0mrows\u001b[0m\u001b[0;34m[\u001b[0m\u001b[0;36m1\u001b[0m\u001b[0;34m:\u001b[0m\u001b[0;34m]\u001b[0m\u001b[0;34m:\u001b[0m\u001b[0;34m\u001b[0m\u001b[0;34m\u001b[0m\u001b[0m\n",
            "\u001b[0;31mAttributeError\u001b[0m: 'NoneType' object has no attribute 'find_all'"
          ]
        }
      ]
    },
    {
      "cell_type": "markdown",
      "source": [
        "## 2.2 데이터수집 - API 사용\n",
        "많은 금융 데이터 제공업체는 API를 통해 데이터를 제공합니다. 예를 들어, Alpha Vantage, Yahoo Finance API, Quandl 등이 있습니다.\n",
        "\n",
        "\n",
        "** alphavantage API 신청 **\n",
        "https://www.alphavantage.co/support/#api-key\n",
        "\n",
        " Free API 신청으로 하루 25건의 이용이 가능합니다.\n",
        "\n",
        " `T5HM0TJESBEDRM94`\n",
        "\n",
        "** 예제: Alpha Vantage API 사용 **"
      ],
      "metadata": {
        "id": "RL-2esuf-hK4"
      }
    },
    {
      "cell_type": "markdown",
      "source": [],
      "metadata": {
        "id": "2KZvN8Q0C8oJ"
      }
    },
    {
      "cell_type": "code",
      "source": [
        "#예제: Alpha Vantage API 사용\n",
        "import requests\n",
        "import pandas as pd\n",
        "\n",
        "# Alpha Vantage API 키\n",
        "api_key = 'YOUR_API_KEY'\n",
        "api_key = 'T5HM0TJESBEDRM94'\n",
        "\n",
        "# URL 설정\n",
        "url = f'https://www.alphavantage.co/query?function=TIME_SERIES_DAILY&symbol=AMZN&apikey={api_key}&outputsize=full&datatype=csv'\n",
        "\n",
        "# 데이터 요청\n",
        "response = requests.get(url)\n",
        "data = response.text\n",
        "\n",
        "# 데이터프레임으로 변환\n",
        "df = pd.read_csv(pd.compat.StringIO(data))\n",
        "\n",
        "# 데이터 전처리\n",
        "df = df.dropna()\n",
        "\n",
        "print(df.head())"
      ],
      "metadata": {
        "colab": {
          "base_uri": "https://localhost:8080/",
          "height": 220
        },
        "id": "I7ySj2_Z-vpC",
        "outputId": "c3660d80-9768-46b7-d4b0-818cf139fc43"
      },
      "execution_count": 5,
      "outputs": [
        {
          "output_type": "error",
          "ename": "AttributeError",
          "evalue": "module 'pandas.compat' has no attribute 'StringIO'",
          "traceback": [
            "\u001b[0;31m---------------------------------------------------------------------------\u001b[0m",
            "\u001b[0;31mAttributeError\u001b[0m                            Traceback (most recent call last)",
            "\u001b[0;32m<ipython-input-5-ee6beadad256>\u001b[0m in \u001b[0;36m<cell line: 17>\u001b[0;34m()\u001b[0m\n\u001b[1;32m     15\u001b[0m \u001b[0;34m\u001b[0m\u001b[0m\n\u001b[1;32m     16\u001b[0m \u001b[0;31m# 데이터프레임으로 변환\u001b[0m\u001b[0;34m\u001b[0m\u001b[0;34m\u001b[0m\u001b[0m\n\u001b[0;32m---> 17\u001b[0;31m \u001b[0mdf\u001b[0m \u001b[0;34m=\u001b[0m \u001b[0mpd\u001b[0m\u001b[0;34m.\u001b[0m\u001b[0mread_csv\u001b[0m\u001b[0;34m(\u001b[0m\u001b[0mpd\u001b[0m\u001b[0;34m.\u001b[0m\u001b[0mcompat\u001b[0m\u001b[0;34m.\u001b[0m\u001b[0mStringIO\u001b[0m\u001b[0;34m(\u001b[0m\u001b[0mdata\u001b[0m\u001b[0;34m)\u001b[0m\u001b[0;34m)\u001b[0m\u001b[0;34m\u001b[0m\u001b[0;34m\u001b[0m\u001b[0m\n\u001b[0m\u001b[1;32m     18\u001b[0m \u001b[0;34m\u001b[0m\u001b[0m\n\u001b[1;32m     19\u001b[0m \u001b[0;31m# 데이터 전처리\u001b[0m\u001b[0;34m\u001b[0m\u001b[0;34m\u001b[0m\u001b[0m\n",
            "\u001b[0;31mAttributeError\u001b[0m: module 'pandas.compat' has no attribute 'StringIO'"
          ]
        }
      ]
    },
    {
      "cell_type": "code",
      "source": [
        "!pip install statsmodels pandas requests"
      ],
      "metadata": {
        "colab": {
          "base_uri": "https://localhost:8080/"
        },
        "id": "KIErYb8vDexY",
        "outputId": "5732b080-8680-437c-abca-b94fe90d8bcb"
      },
      "execution_count": 11,
      "outputs": [
        {
          "output_type": "stream",
          "name": "stdout",
          "text": [
            "Requirement already satisfied: statsmodels in /usr/local/lib/python3.10/dist-packages (0.14.2)\n",
            "Requirement already satisfied: pandas in /usr/local/lib/python3.10/dist-packages (2.1.4)\n",
            "Requirement already satisfied: requests in /usr/local/lib/python3.10/dist-packages (2.32.3)\n",
            "Requirement already satisfied: numpy>=1.22.3 in /usr/local/lib/python3.10/dist-packages (from statsmodels) (1.26.4)\n",
            "Requirement already satisfied: scipy!=1.9.2,>=1.8 in /usr/local/lib/python3.10/dist-packages (from statsmodels) (1.13.1)\n",
            "Requirement already satisfied: patsy>=0.5.6 in /usr/local/lib/python3.10/dist-packages (from statsmodels) (0.5.6)\n",
            "Requirement already satisfied: packaging>=21.3 in /usr/local/lib/python3.10/dist-packages (from statsmodels) (24.1)\n",
            "Requirement already satisfied: python-dateutil>=2.8.2 in /usr/local/lib/python3.10/dist-packages (from pandas) (2.8.2)\n",
            "Requirement already satisfied: pytz>=2020.1 in /usr/local/lib/python3.10/dist-packages (from pandas) (2024.1)\n",
            "Requirement already satisfied: tzdata>=2022.1 in /usr/local/lib/python3.10/dist-packages (from pandas) (2024.1)\n",
            "Requirement already satisfied: charset-normalizer<4,>=2 in /usr/local/lib/python3.10/dist-packages (from requests) (3.3.2)\n",
            "Requirement already satisfied: idna<4,>=2.5 in /usr/local/lib/python3.10/dist-packages (from requests) (3.7)\n",
            "Requirement already satisfied: urllib3<3,>=1.21.1 in /usr/local/lib/python3.10/dist-packages (from requests) (2.0.7)\n",
            "Requirement already satisfied: certifi>=2017.4.17 in /usr/local/lib/python3.10/dist-packages (from requests) (2024.7.4)\n",
            "Requirement already satisfied: six in /usr/local/lib/python3.10/dist-packages (from patsy>=0.5.6->statsmodels) (1.16.0)\n"
          ]
        }
      ]
    },
    {
      "cell_type": "markdown",
      "source": [],
      "metadata": {
        "id": "WVdekeMGDA95"
      }
    },
    {
      "cell_type": "code",
      "source": [
        "import requests\n",
        "import pandas as pd\n",
        "from statsmodels.tsa.arima.model import ARIMA\n",
        "\n",
        "\n",
        "# CSV 파일 URL\n",
        "url = 'https://query1.finance.yahoo.com/v7/finance/download/AMZN?period1=1691730584&period2=1723352984&interval=1d&events=history&includeAdjustedClose=true'\n",
        "\n",
        "# CSV 파일을 데이터프레임으로 읽기\n",
        "df = pd.read_csv(url)\n",
        "\n",
        "# 데이터프레임 출력\n",
        "print(df.head())\n",
        "\n",
        "\n",
        "# 데이터 전처리\n",
        "df['Close'] = (df['Close'] - df['Close'].mean()) / df['Close'].std()\n",
        "\n",
        "# 모델 학습\n",
        "model = ARIMA(df['Close'], order=(5, 1, 0))\n",
        "model_fit = model.fit()\n",
        "\n",
        "# 주가 예측\n",
        "forecast_3m = model_fit.forecast(steps=90)\n",
        "forecast_6m = model_fit.forecast(steps=180)\n",
        "forecast_12m = model_fit.forecast(steps=365)\n",
        "\n",
        "print(\"3개월 예측 주가:\", forecast_3m)\n",
        "print(\"6개월 예측 주가:\", forecast_6m)\n",
        "print(\"12개월 예측 주가:\", forecast_12m)"
      ],
      "metadata": {
        "colab": {
          "base_uri": "https://localhost:8080/"
        },
        "id": "Ho1nRC6ZDJLd",
        "outputId": "750bd797-c007-4b5c-cad5-e7e707e55067"
      },
      "execution_count": 13,
      "outputs": [
        {
          "output_type": "stream",
          "name": "stdout",
          "text": [
            "         Date        Open        High         Low       Close   Adj Close  \\\n",
            "0  2023-08-11  137.399994  139.330002  137.000000  138.410004  138.410004   \n",
            "1  2023-08-14  138.300003  140.589996  137.750000  140.570007  140.570007   \n",
            "2  2023-08-15  140.050003  141.279999  137.229996  137.669998  137.669998   \n",
            "3  2023-08-16  137.190002  137.270004  135.009995  135.070007  135.070007   \n",
            "4  2023-08-17  135.460007  136.089996  133.529999  133.979996  133.979996   \n",
            "\n",
            "     Volume  \n",
            "0  42832100  \n",
            "1  47148700  \n",
            "2  42781500  \n",
            "3  41675900  \n",
            "4  48354100  \n",
            "3개월 예측 주가: 251    0.201493\n",
            "252    0.204488\n",
            "253    0.217919\n",
            "254    0.218669\n",
            "255    0.216105\n",
            "         ...   \n",
            "336    0.217807\n",
            "337    0.217807\n",
            "338    0.217807\n",
            "339    0.217807\n",
            "340    0.217807\n",
            "Name: predicted_mean, Length: 90, dtype: float64\n",
            "6개월 예측 주가: 251    0.201493\n",
            "252    0.204488\n",
            "253    0.217919\n",
            "254    0.218669\n",
            "255    0.216105\n",
            "         ...   \n",
            "426    0.217807\n",
            "427    0.217807\n",
            "428    0.217807\n",
            "429    0.217807\n",
            "430    0.217807\n",
            "Name: predicted_mean, Length: 180, dtype: float64\n",
            "12개월 예측 주가: 251    0.201493\n",
            "252    0.204488\n",
            "253    0.217919\n",
            "254    0.218669\n",
            "255    0.216105\n",
            "         ...   \n",
            "611    0.217807\n",
            "612    0.217807\n",
            "613    0.217807\n",
            "614    0.217807\n",
            "615    0.217807\n",
            "Name: predicted_mean, Length: 365, dtype: float64\n"
          ]
        }
      ]
    },
    {
      "cell_type": "markdown",
      "source": [
        "\n",
        "\n",
        "```\n",
        "# 코드로 형식 지정됨\n",
        "         Date        Open        High         Low       Close   Adj Close  \\\n",
        "0  2023-08-11  137.399994  139.330002  137.000000  138.410004  138.410004   \n",
        "1  2023-08-14  138.300003  140.589996  137.750000  140.570007  140.570007   \n",
        "2  2023-08-15  140.050003  141.279999  137.229996  137.669998  137.669998   \n",
        "3  2023-08-16  137.190002  137.270004  135.009995  135.070007  135.070007   \n",
        "4  2023-08-17  135.460007  136.089996  133.529999  133.979996  133.979996   \n",
        "\n",
        "     Volume  \n",
        "0  42832100  \n",
        "1  47148700  \n",
        "2  42781500  \n",
        "3  41675900  \n",
        "4  48354100  \n",
        "3개월 예측 주가: 251    0.201493\n",
        "252    0.204488\n",
        "253    0.217919\n",
        "254    0.218669\n",
        "255    0.216105\n",
        "         ...   \n",
        "336    0.217807\n",
        "337    0.217807\n",
        "338    0.217807\n",
        "339    0.217807\n",
        "340    0.217807\n",
        "Name: predicted_mean, Length: 90, dtype: float64\n",
        "6개월 예측 주가: 251    0.201493\n",
        "252    0.204488\n",
        "253    0.217919\n",
        "254    0.218669\n",
        "255    0.216105\n",
        "         ...   \n",
        "426    0.217807\n",
        "427    0.217807\n",
        "428    0.217807\n",
        "429    0.217807\n",
        "430    0.217807\n",
        "Name: predicted_mean, Length: 180, dtype: float64\n",
        "12개월 예측 주가: 251    0.201493\n",
        "252    0.204488\n",
        "253    0.217919\n",
        "254    0.218669\n",
        "255    0.216105\n",
        "         ...   \n",
        "611    0.217807\n",
        "612    0.217807\n",
        "613    0.217807\n",
        "614    0.217807\n",
        "615    0.217807\n",
        "Name: predicted_mean, Length: 365, dtype: float64\n",
        "```\n",
        "\n"
      ],
      "metadata": {
        "id": "aqS1GHQ-FAgV"
      }
    },
    {
      "cell_type": "markdown",
      "source": [
        "\n",
        "\n",
        "## 데이터 분석 및 예측 결과 해석\n",
        "데이터프레임\n",
        "주어진 데이터프레임은 아마존 주가의 일일 데이터를 포함하고 있습니다. 각 열의 의미는 다음과 같습니다:\n",
        "```\n",
        "Date: 날짜\n",
        "Open: 시가\n",
        "High: 고가\n",
        "Low: 저가\n",
        "Close: 종가\n",
        "Adj Close: 수정 종가\n",
        "Volume: 거래량\n",
        "\n",
        "** 예측 결과 **\n",
        "ARIMA 모델을 사용하여 3개월, 6개월, 12개월 동안의 주가를 예측한 결과는 다음과 같습니다:\n",
        "\n",
        "- 3개월 예측 주가:\n",
        "예측된 주가는 약 0.201493에서 0.217807 사이입니다.\n",
        "이는 표준화된 값으로, 실제 주가로 변환하려면 역표준화를 해야 합니다.\n",
        "\n",
        "\n",
        "- 6개월 예측 주가:\n",
        "예측된 주가는 약 0.201493에서 0.217807 사이입니다.\n",
        "3개월 예측과 유사한 범위로, 주가가 안정적인 상승세를 보일 것으로 예상됩니다.\n",
        "\n",
        "- 12개월 예측 주가:\n",
        "예측된 주가는 약 0.201493에서 0.217807 사이입니다.\n",
        "\n",
        "장기적으로도 주가가 안정적인 상승세를 유지할 것으로 보입니다.\n",
        "```\n",
        "\n"
      ],
      "metadata": {
        "id": "pEObhXamDAwv"
      }
    },
    {
      "cell_type": "markdown",
      "source": [
        "## Reference\n",
        "<pre>\n",
        "Markdown\tPreview\n",
        "**bold text**\tbold text\n",
        "*italicized text* or _italicized text_\titalicized text\n",
        "`Monospace`\tMonospace\n",
        "~~strikethrough~~\tstrikethrough\n",
        "[A link](https://www.google.com)\tA link\n",
        "![An image](https://www.google.com/images/rss.png)\tAn image\n",
        "</pre>\n",
        "\n",
        "[참조 : 마크다운 - 작성가이드](https://colab.research.google.com/notebooks/markdown_guide.ipynb#scrollTo=Lhfnlq1Surtk)"
      ],
      "metadata": {
        "id": "HFSnAztD766D"
      }
    }
  ]
}